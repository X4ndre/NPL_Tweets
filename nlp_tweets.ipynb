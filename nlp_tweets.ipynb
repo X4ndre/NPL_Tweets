{
 "cells": [
  {
   "cell_type": "code",
   "execution_count": 1,
   "id": "67838cfc",
   "metadata": {
    "execution": {
     "iopub.execute_input": "2024-04-26T08:09:55.085243Z",
     "iopub.status.busy": "2024-04-26T08:09:55.083717Z",
     "iopub.status.idle": "2024-04-26T08:10:12.100475Z",
     "shell.execute_reply": "2024-04-26T08:10:12.099256Z"
    },
    "papermill": {
     "duration": 17.03063,
     "end_time": "2024-04-26T08:10:12.104598",
     "exception": false,
     "start_time": "2024-04-26T08:09:55.073968",
     "status": "completed"
    },
    "tags": []
   },
   "outputs": [
    {
     "name": "stderr",
     "output_type": "stream",
     "text": [
      "2024-04-26 08:09:59.867369: E external/local_xla/xla/stream_executor/cuda/cuda_dnn.cc:9261] Unable to register cuDNN factory: Attempting to register factory for plugin cuDNN when one has already been registered\n",
      "2024-04-26 08:09:59.867549: E external/local_xla/xla/stream_executor/cuda/cuda_fft.cc:607] Unable to register cuFFT factory: Attempting to register factory for plugin cuFFT when one has already been registered\n",
      "2024-04-26 08:10:00.040060: E external/local_xla/xla/stream_executor/cuda/cuda_blas.cc:1515] Unable to register cuBLAS factory: Attempting to register factory for plugin cuBLAS when one has already been registered\n"
     ]
    }
   ],
   "source": [
    "import pandas as pd\n",
    "import numpy as np\n",
    "from sklearn.model_selection import train_test_split\n",
    "from tensorflow.keras.preprocessing.text import Tokenizer\n",
    "from tensorflow.keras.preprocessing.sequence import pad_sequences\n",
    "from tensorflow.keras.models import Sequential\n",
    "from tensorflow.keras.layers import Dense, Embedding, LSTM, SpatialDropout1D, Dropout, Input\n",
    "from tensorflow.keras.regularizers import l1, l2\n",
    "from sklearn.metrics import accuracy_score, f1_score, confusion_matrix, ConfusionMatrixDisplay"
   ]
  },
  {
   "cell_type": "code",
   "execution_count": 2,
   "id": "1b50ae7b",
   "metadata": {
    "execution": {
     "iopub.execute_input": "2024-04-26T08:10:12.123000Z",
     "iopub.status.busy": "2024-04-26T08:10:12.121590Z",
     "iopub.status.idle": "2024-04-26T08:10:12.185503Z",
     "shell.execute_reply": "2024-04-26T08:10:12.184474Z"
    },
    "papermill": {
     "duration": 0.075628,
     "end_time": "2024-04-26T08:10:12.188063",
     "exception": false,
     "start_time": "2024-04-26T08:10:12.112435",
     "status": "completed"
    },
    "tags": []
   },
   "outputs": [],
   "source": [
    "train_data = pd.read_csv('/kaggle/input/nlp-getting-started/train.csv')\n",
    "tweets = train_data['text'].values\n",
    "labels = train_data['target'].values"
   ]
  },
  {
   "cell_type": "code",
   "execution_count": 3,
   "id": "f2434ddb",
   "metadata": {
    "execution": {
     "iopub.execute_input": "2024-04-26T08:10:12.205299Z",
     "iopub.status.busy": "2024-04-26T08:10:12.204087Z",
     "iopub.status.idle": "2024-04-26T08:10:12.214656Z",
     "shell.execute_reply": "2024-04-26T08:10:12.213372Z"
    },
    "papermill": {
     "duration": 0.022206,
     "end_time": "2024-04-26T08:10:12.217632",
     "exception": false,
     "start_time": "2024-04-26T08:10:12.195426",
     "status": "completed"
    },
    "tags": []
   },
   "outputs": [],
   "source": [
    "x_train, x_val, y_train, y_val = train_test_split(tweets, labels, test_size=0.3, random_state=42, shuffle=True, stratify=None)\n",
    "x_val, x_test1, y_val, y_test1 = train_test_split(x_val, y_val, test_size=0.1, random_state=42, shuffle=True, stratify=None)"
   ]
  },
  {
   "cell_type": "code",
   "execution_count": 4,
   "id": "5280c48b",
   "metadata": {
    "execution": {
     "iopub.execute_input": "2024-04-26T08:10:12.234794Z",
     "iopub.status.busy": "2024-04-26T08:10:12.233761Z",
     "iopub.status.idle": "2024-04-26T08:10:12.500594Z",
     "shell.execute_reply": "2024-04-26T08:10:12.499384Z"
    },
    "papermill": {
     "duration": 0.278269,
     "end_time": "2024-04-26T08:10:12.503390",
     "exception": false,
     "start_time": "2024-04-26T08:10:12.225121",
     "status": "completed"
    },
    "tags": []
   },
   "outputs": [],
   "source": [
    "tokenizer = Tokenizer(num_words=5000)\n",
    "tokenizer.fit_on_texts(tweets)"
   ]
  },
  {
   "cell_type": "code",
   "execution_count": 5,
   "id": "95143be4",
   "metadata": {
    "execution": {
     "iopub.execute_input": "2024-04-26T08:10:12.520283Z",
     "iopub.status.busy": "2024-04-26T08:10:12.519875Z",
     "iopub.status.idle": "2024-04-26T08:10:12.761279Z",
     "shell.execute_reply": "2024-04-26T08:10:12.759996Z"
    },
    "papermill": {
     "duration": 0.253293,
     "end_time": "2024-04-26T08:10:12.764122",
     "exception": false,
     "start_time": "2024-04-26T08:10:12.510829",
     "status": "completed"
    },
    "tags": []
   },
   "outputs": [],
   "source": [
    "x_train = tokenizer.texts_to_sequences(x_train)\n",
    "x_train = pad_sequences(x_train, maxlen=350)\n",
    "x_val = tokenizer.texts_to_sequences(x_val)\n",
    "x_val = pad_sequences(x_val, maxlen=350)\n",
    "x_test1 = tokenizer.texts_to_sequences(x_test1)\n",
    "x_test1 = pad_sequences(x_test1, maxlen=350)"
   ]
  },
  {
   "cell_type": "code",
   "execution_count": 6,
   "id": "a6216180",
   "metadata": {
    "execution": {
     "iopub.execute_input": "2024-04-26T08:10:12.781307Z",
     "iopub.status.busy": "2024-04-26T08:10:12.780911Z",
     "iopub.status.idle": "2024-04-26T08:10:12.947989Z",
     "shell.execute_reply": "2024-04-26T08:10:12.946806Z"
    },
    "papermill": {
     "duration": 0.17916,
     "end_time": "2024-04-26T08:10:12.950715",
     "exception": false,
     "start_time": "2024-04-26T08:10:12.771555",
     "status": "completed"
    },
    "tags": []
   },
   "outputs": [],
   "source": [
    "model = Sequential()\n",
    "model.add(Input((x_train.shape[1],)))\n",
    "model.add(Embedding(5000, 100))\n",
    "model.add(SpatialDropout1D(0.2))\n",
    "model.add(LSTM(150, dropout=0.5, recurrent_dropout=0.5))\n",
    "model.add(Dense(1, activation='sigmoid', kernel_regularizer=l1(0.001)))\n",
    "\n",
    "model.compile(loss='binary_crossentropy', optimizer='adam', metrics=['accuracy'])"
   ]
  },
  {
   "cell_type": "code",
   "execution_count": 7,
   "id": "f7730da7",
   "metadata": {
    "execution": {
     "iopub.execute_input": "2024-04-26T08:10:12.967920Z",
     "iopub.status.busy": "2024-04-26T08:10:12.967487Z",
     "iopub.status.idle": "2024-04-26T08:10:12.992562Z",
     "shell.execute_reply": "2024-04-26T08:10:12.991642Z"
    },
    "papermill": {
     "duration": 0.036853,
     "end_time": "2024-04-26T08:10:12.995038",
     "exception": false,
     "start_time": "2024-04-26T08:10:12.958185",
     "status": "completed"
    },
    "tags": []
   },
   "outputs": [
    {
     "data": {
      "text/html": [
       "<pre style=\"white-space:pre;overflow-x:auto;line-height:normal;font-family:Menlo,'DejaVu Sans Mono',consolas,'Courier New',monospace\"><span style=\"font-weight: bold\">Model: \"sequential\"</span>\n",
       "</pre>\n"
      ],
      "text/plain": [
       "\u001b[1mModel: \"sequential\"\u001b[0m\n"
      ]
     },
     "metadata": {},
     "output_type": "display_data"
    },
    {
     "data": {
      "text/html": [
       "<pre style=\"white-space:pre;overflow-x:auto;line-height:normal;font-family:Menlo,'DejaVu Sans Mono',consolas,'Courier New',monospace\">┏━━━━━━━━━━━━━━━━━━━━━━━━━━━━━━━━━┳━━━━━━━━━━━━━━━━━━━━━━━━┳━━━━━━━━━━━━━━━┓\n",
       "┃<span style=\"font-weight: bold\"> Layer (type)                    </span>┃<span style=\"font-weight: bold\"> Output Shape           </span>┃<span style=\"font-weight: bold\">       Param # </span>┃\n",
       "┡━━━━━━━━━━━━━━━━━━━━━━━━━━━━━━━━━╇━━━━━━━━━━━━━━━━━━━━━━━━╇━━━━━━━━━━━━━━━┩\n",
       "│ embedding (<span style=\"color: #0087ff; text-decoration-color: #0087ff\">Embedding</span>)           │ (<span style=\"color: #00d7ff; text-decoration-color: #00d7ff\">None</span>, <span style=\"color: #00af00; text-decoration-color: #00af00\">350</span>, <span style=\"color: #00af00; text-decoration-color: #00af00\">100</span>)       │       <span style=\"color: #00af00; text-decoration-color: #00af00\">500,000</span> │\n",
       "├─────────────────────────────────┼────────────────────────┼───────────────┤\n",
       "│ spatial_dropout1d               │ (<span style=\"color: #00d7ff; text-decoration-color: #00d7ff\">None</span>, <span style=\"color: #00af00; text-decoration-color: #00af00\">350</span>, <span style=\"color: #00af00; text-decoration-color: #00af00\">100</span>)       │             <span style=\"color: #00af00; text-decoration-color: #00af00\">0</span> │\n",
       "│ (<span style=\"color: #0087ff; text-decoration-color: #0087ff\">SpatialDropout1D</span>)              │                        │               │\n",
       "├─────────────────────────────────┼────────────────────────┼───────────────┤\n",
       "│ lstm (<span style=\"color: #0087ff; text-decoration-color: #0087ff\">LSTM</span>)                     │ (<span style=\"color: #00d7ff; text-decoration-color: #00d7ff\">None</span>, <span style=\"color: #00af00; text-decoration-color: #00af00\">150</span>)            │       <span style=\"color: #00af00; text-decoration-color: #00af00\">150,600</span> │\n",
       "├─────────────────────────────────┼────────────────────────┼───────────────┤\n",
       "│ dense (<span style=\"color: #0087ff; text-decoration-color: #0087ff\">Dense</span>)                   │ (<span style=\"color: #00d7ff; text-decoration-color: #00d7ff\">None</span>, <span style=\"color: #00af00; text-decoration-color: #00af00\">1</span>)              │           <span style=\"color: #00af00; text-decoration-color: #00af00\">151</span> │\n",
       "└─────────────────────────────────┴────────────────────────┴───────────────┘\n",
       "</pre>\n"
      ],
      "text/plain": [
       "┏━━━━━━━━━━━━━━━━━━━━━━━━━━━━━━━━━┳━━━━━━━━━━━━━━━━━━━━━━━━┳━━━━━━━━━━━━━━━┓\n",
       "┃\u001b[1m \u001b[0m\u001b[1mLayer (type)                   \u001b[0m\u001b[1m \u001b[0m┃\u001b[1m \u001b[0m\u001b[1mOutput Shape          \u001b[0m\u001b[1m \u001b[0m┃\u001b[1m \u001b[0m\u001b[1m      Param #\u001b[0m\u001b[1m \u001b[0m┃\n",
       "┡━━━━━━━━━━━━━━━━━━━━━━━━━━━━━━━━━╇━━━━━━━━━━━━━━━━━━━━━━━━╇━━━━━━━━━━━━━━━┩\n",
       "│ embedding (\u001b[38;5;33mEmbedding\u001b[0m)           │ (\u001b[38;5;45mNone\u001b[0m, \u001b[38;5;34m350\u001b[0m, \u001b[38;5;34m100\u001b[0m)       │       \u001b[38;5;34m500,000\u001b[0m │\n",
       "├─────────────────────────────────┼────────────────────────┼───────────────┤\n",
       "│ spatial_dropout1d               │ (\u001b[38;5;45mNone\u001b[0m, \u001b[38;5;34m350\u001b[0m, \u001b[38;5;34m100\u001b[0m)       │             \u001b[38;5;34m0\u001b[0m │\n",
       "│ (\u001b[38;5;33mSpatialDropout1D\u001b[0m)              │                        │               │\n",
       "├─────────────────────────────────┼────────────────────────┼───────────────┤\n",
       "│ lstm (\u001b[38;5;33mLSTM\u001b[0m)                     │ (\u001b[38;5;45mNone\u001b[0m, \u001b[38;5;34m150\u001b[0m)            │       \u001b[38;5;34m150,600\u001b[0m │\n",
       "├─────────────────────────────────┼────────────────────────┼───────────────┤\n",
       "│ dense (\u001b[38;5;33mDense\u001b[0m)                   │ (\u001b[38;5;45mNone\u001b[0m, \u001b[38;5;34m1\u001b[0m)              │           \u001b[38;5;34m151\u001b[0m │\n",
       "└─────────────────────────────────┴────────────────────────┴───────────────┘\n"
      ]
     },
     "metadata": {},
     "output_type": "display_data"
    },
    {
     "data": {
      "text/html": [
       "<pre style=\"white-space:pre;overflow-x:auto;line-height:normal;font-family:Menlo,'DejaVu Sans Mono',consolas,'Courier New',monospace\"><span style=\"font-weight: bold\"> Total params: </span><span style=\"color: #00af00; text-decoration-color: #00af00\">650,751</span> (2.48 MB)\n",
       "</pre>\n"
      ],
      "text/plain": [
       "\u001b[1m Total params: \u001b[0m\u001b[38;5;34m650,751\u001b[0m (2.48 MB)\n"
      ]
     },
     "metadata": {},
     "output_type": "display_data"
    },
    {
     "data": {
      "text/html": [
       "<pre style=\"white-space:pre;overflow-x:auto;line-height:normal;font-family:Menlo,'DejaVu Sans Mono',consolas,'Courier New',monospace\"><span style=\"font-weight: bold\"> Trainable params: </span><span style=\"color: #00af00; text-decoration-color: #00af00\">650,751</span> (2.48 MB)\n",
       "</pre>\n"
      ],
      "text/plain": [
       "\u001b[1m Trainable params: \u001b[0m\u001b[38;5;34m650,751\u001b[0m (2.48 MB)\n"
      ]
     },
     "metadata": {},
     "output_type": "display_data"
    },
    {
     "data": {
      "text/html": [
       "<pre style=\"white-space:pre;overflow-x:auto;line-height:normal;font-family:Menlo,'DejaVu Sans Mono',consolas,'Courier New',monospace\"><span style=\"font-weight: bold\"> Non-trainable params: </span><span style=\"color: #00af00; text-decoration-color: #00af00\">0</span> (0.00 B)\n",
       "</pre>\n"
      ],
      "text/plain": [
       "\u001b[1m Non-trainable params: \u001b[0m\u001b[38;5;34m0\u001b[0m (0.00 B)\n"
      ]
     },
     "metadata": {},
     "output_type": "display_data"
    }
   ],
   "source": [
    "model.summary()"
   ]
  },
  {
   "cell_type": "code",
   "execution_count": 8,
   "id": "88b85bd2",
   "metadata": {
    "execution": {
     "iopub.execute_input": "2024-04-26T08:10:13.014919Z",
     "iopub.status.busy": "2024-04-26T08:10:13.013760Z",
     "iopub.status.idle": "2024-04-26T08:16:23.806549Z",
     "shell.execute_reply": "2024-04-26T08:16:23.805646Z"
    },
    "papermill": {
     "duration": 370.804985,
     "end_time": "2024-04-26T08:16:23.808835",
     "exception": false,
     "start_time": "2024-04-26T08:10:13.003850",
     "status": "completed"
    },
    "tags": []
   },
   "outputs": [
    {
     "name": "stdout",
     "output_type": "stream",
     "text": [
      "Epoch 1/5\n",
      "\u001b[1m122/122\u001b[0m \u001b[32m━━━━━━━━━━━━━━━━━━━━\u001b[0m\u001b[37m\u001b[0m \u001b[1m65s\u001b[0m 506ms/step - accuracy: 0.5893 - loss: 0.6782 - val_accuracy: 0.7382 - val_loss: 0.5473\n",
      "Epoch 2/5\n",
      "\u001b[1m122/122\u001b[0m \u001b[32m━━━━━━━━━━━━━━━━━━━━\u001b[0m\u001b[37m\u001b[0m \u001b[1m61s\u001b[0m 501ms/step - accuracy: 0.7810 - loss: 0.4890 - val_accuracy: 0.8058 - val_loss: 0.4617\n",
      "Epoch 3/5\n",
      "\u001b[1m122/122\u001b[0m \u001b[32m━━━━━━━━━━━━━━━━━━━━\u001b[0m\u001b[37m\u001b[0m \u001b[1m80s\u001b[0m 489ms/step - accuracy: 0.8531 - loss: 0.3767 - val_accuracy: 0.8151 - val_loss: 0.4643\n",
      "Epoch 4/5\n",
      "\u001b[1m122/122\u001b[0m \u001b[32m━━━━━━━━━━━━━━━━━━━━\u001b[0m\u001b[37m\u001b[0m \u001b[1m84s\u001b[0m 506ms/step - accuracy: 0.8772 - loss: 0.3313 - val_accuracy: 0.7971 - val_loss: 0.4861\n",
      "Epoch 5/5\n",
      "\u001b[1m122/122\u001b[0m \u001b[32m━━━━━━━━━━━━━━━━━━━━\u001b[0m\u001b[37m\u001b[0m \u001b[1m81s\u001b[0m 496ms/step - accuracy: 0.9016 - loss: 0.2795 - val_accuracy: 0.8068 - val_loss: 0.5235\n"
     ]
    },
    {
     "data": {
      "text/plain": [
       "<keras.src.callbacks.history.History at 0x7baae7efb100>"
      ]
     },
     "execution_count": 8,
     "metadata": {},
     "output_type": "execute_result"
    }
   ],
   "source": [
    "model.fit(x_train, y_train, epochs=5, batch_size=44, validation_data=(x_val, y_val))"
   ]
  },
  {
   "cell_type": "code",
   "execution_count": 9,
   "id": "509a9d9a",
   "metadata": {
    "execution": {
     "iopub.execute_input": "2024-04-26T08:16:23.943898Z",
     "iopub.status.busy": "2024-04-26T08:16:23.943140Z",
     "iopub.status.idle": "2024-04-26T08:16:25.409190Z",
     "shell.execute_reply": "2024-04-26T08:16:25.408020Z"
    },
    "papermill": {
     "duration": 1.536503,
     "end_time": "2024-04-26T08:16:25.412067",
     "exception": false,
     "start_time": "2024-04-26T08:16:23.875564",
     "status": "completed"
    },
    "tags": []
   },
   "outputs": [
    {
     "name": "stdout",
     "output_type": "stream",
     "text": [
      "\u001b[1m8/8\u001b[0m \u001b[32m━━━━━━━━━━━━━━━━━━━━\u001b[0m\u001b[37m\u001b[0m \u001b[1m1s\u001b[0m 149ms/step\n"
     ]
    }
   ],
   "source": [
    "y_pred = model.predict(x_test1)\n",
    "y_pred = np.rint(y_pred)\n"
   ]
  },
  {
   "cell_type": "code",
   "execution_count": 10,
   "id": "7123928e",
   "metadata": {
    "execution": {
     "iopub.execute_input": "2024-04-26T08:16:25.550907Z",
     "iopub.status.busy": "2024-04-26T08:16:25.550475Z",
     "iopub.status.idle": "2024-04-26T08:16:25.565592Z",
     "shell.execute_reply": "2024-04-26T08:16:25.564012Z"
    },
    "papermill": {
     "duration": 0.08899,
     "end_time": "2024-04-26T08:16:25.568230",
     "exception": false,
     "start_time": "2024-04-26T08:16:25.479240",
     "status": "completed"
    },
    "tags": []
   },
   "outputs": [
    {
     "name": "stdout",
     "output_type": "stream",
     "text": [
      "Accuracy: 0.825\n",
      "F1 Score: 0.7802197802197802\n"
     ]
    }
   ],
   "source": [
    "print('Accuracy: {:.3f}'.format(accuracy_score(y_test1, y_pred)))\n",
    "print(\"F1 Score:\", f1_score(y_test1, y_pred))"
   ]
  },
  {
   "cell_type": "code",
   "execution_count": 11,
   "id": "17235a70",
   "metadata": {
    "execution": {
     "iopub.execute_input": "2024-04-26T08:16:25.771815Z",
     "iopub.status.busy": "2024-04-26T08:16:25.771425Z",
     "iopub.status.idle": "2024-04-26T08:16:25.801930Z",
     "shell.execute_reply": "2024-04-26T08:16:25.800711Z"
    },
    "papermill": {
     "duration": 0.167541,
     "end_time": "2024-04-26T08:16:25.804653",
     "exception": false,
     "start_time": "2024-04-26T08:16:25.637112",
     "status": "completed"
    },
    "tags": []
   },
   "outputs": [],
   "source": [
    "test_data = pd.read_csv(\"/kaggle/input/nlp-getting-started/test.csv\")"
   ]
  },
  {
   "cell_type": "code",
   "execution_count": 12,
   "id": "a6394ae6",
   "metadata": {
    "execution": {
     "iopub.execute_input": "2024-04-26T08:16:25.944688Z",
     "iopub.status.busy": "2024-04-26T08:16:25.944294Z",
     "iopub.status.idle": "2024-04-26T08:16:25.956647Z",
     "shell.execute_reply": "2024-04-26T08:16:25.955713Z"
    },
    "papermill": {
     "duration": 0.085904,
     "end_time": "2024-04-26T08:16:25.959181",
     "exception": false,
     "start_time": "2024-04-26T08:16:25.873277",
     "status": "completed"
    },
    "tags": []
   },
   "outputs": [
    {
     "data": {
      "text/plain": [
       "id          False\n",
       "keyword      True\n",
       "location     True\n",
       "text        False\n",
       "dtype: bool"
      ]
     },
     "execution_count": 12,
     "metadata": {},
     "output_type": "execute_result"
    }
   ],
   "source": [
    "test_data.isna().any()"
   ]
  },
  {
   "cell_type": "code",
   "execution_count": 13,
   "id": "f24e4483",
   "metadata": {
    "execution": {
     "iopub.execute_input": "2024-04-26T08:16:26.098972Z",
     "iopub.status.busy": "2024-04-26T08:16:26.098542Z",
     "iopub.status.idle": "2024-04-26T08:16:26.121210Z",
     "shell.execute_reply": "2024-04-26T08:16:26.120126Z"
    },
    "papermill": {
     "duration": 0.094887,
     "end_time": "2024-04-26T08:16:26.123851",
     "exception": false,
     "start_time": "2024-04-26T08:16:26.028964",
     "status": "completed"
    },
    "tags": []
   },
   "outputs": [
    {
     "data": {
      "text/html": [
       "<div>\n",
       "<style scoped>\n",
       "    .dataframe tbody tr th:only-of-type {\n",
       "        vertical-align: middle;\n",
       "    }\n",
       "\n",
       "    .dataframe tbody tr th {\n",
       "        vertical-align: top;\n",
       "    }\n",
       "\n",
       "    .dataframe thead th {\n",
       "        text-align: right;\n",
       "    }\n",
       "</style>\n",
       "<table border=\"1\" class=\"dataframe\">\n",
       "  <thead>\n",
       "    <tr style=\"text-align: right;\">\n",
       "      <th></th>\n",
       "      <th>id</th>\n",
       "      <th>keyword</th>\n",
       "      <th>location</th>\n",
       "      <th>text</th>\n",
       "    </tr>\n",
       "  </thead>\n",
       "  <tbody>\n",
       "    <tr>\n",
       "      <th>0</th>\n",
       "      <td>0</td>\n",
       "      <td>NaN</td>\n",
       "      <td>NaN</td>\n",
       "      <td>Just happened a terrible car crash</td>\n",
       "    </tr>\n",
       "    <tr>\n",
       "      <th>1</th>\n",
       "      <td>2</td>\n",
       "      <td>NaN</td>\n",
       "      <td>NaN</td>\n",
       "      <td>Heard about #earthquake is different cities, s...</td>\n",
       "    </tr>\n",
       "    <tr>\n",
       "      <th>2</th>\n",
       "      <td>3</td>\n",
       "      <td>NaN</td>\n",
       "      <td>NaN</td>\n",
       "      <td>there is a forest fire at spot pond, geese are...</td>\n",
       "    </tr>\n",
       "    <tr>\n",
       "      <th>3</th>\n",
       "      <td>9</td>\n",
       "      <td>NaN</td>\n",
       "      <td>NaN</td>\n",
       "      <td>Apocalypse lighting. #Spokane #wildfires</td>\n",
       "    </tr>\n",
       "    <tr>\n",
       "      <th>4</th>\n",
       "      <td>11</td>\n",
       "      <td>NaN</td>\n",
       "      <td>NaN</td>\n",
       "      <td>Typhoon Soudelor kills 28 in China and Taiwan</td>\n",
       "    </tr>\n",
       "    <tr>\n",
       "      <th>...</th>\n",
       "      <td>...</td>\n",
       "      <td>...</td>\n",
       "      <td>...</td>\n",
       "      <td>...</td>\n",
       "    </tr>\n",
       "    <tr>\n",
       "      <th>3258</th>\n",
       "      <td>10861</td>\n",
       "      <td>NaN</td>\n",
       "      <td>NaN</td>\n",
       "      <td>EARTHQUAKE SAFETY LOS ANGELES ÛÒ SAFETY FASTE...</td>\n",
       "    </tr>\n",
       "    <tr>\n",
       "      <th>3259</th>\n",
       "      <td>10865</td>\n",
       "      <td>NaN</td>\n",
       "      <td>NaN</td>\n",
       "      <td>Storm in RI worse than last hurricane. My city...</td>\n",
       "    </tr>\n",
       "    <tr>\n",
       "      <th>3260</th>\n",
       "      <td>10868</td>\n",
       "      <td>NaN</td>\n",
       "      <td>NaN</td>\n",
       "      <td>Green Line derailment in Chicago http://t.co/U...</td>\n",
       "    </tr>\n",
       "    <tr>\n",
       "      <th>3261</th>\n",
       "      <td>10874</td>\n",
       "      <td>NaN</td>\n",
       "      <td>NaN</td>\n",
       "      <td>MEG issues Hazardous Weather Outlook (HWO) htt...</td>\n",
       "    </tr>\n",
       "    <tr>\n",
       "      <th>3262</th>\n",
       "      <td>10875</td>\n",
       "      <td>NaN</td>\n",
       "      <td>NaN</td>\n",
       "      <td>#CityofCalgary has activated its Municipal Eme...</td>\n",
       "    </tr>\n",
       "  </tbody>\n",
       "</table>\n",
       "<p>3263 rows × 4 columns</p>\n",
       "</div>"
      ],
      "text/plain": [
       "         id keyword location  \\\n",
       "0         0     NaN      NaN   \n",
       "1         2     NaN      NaN   \n",
       "2         3     NaN      NaN   \n",
       "3         9     NaN      NaN   \n",
       "4        11     NaN      NaN   \n",
       "...     ...     ...      ...   \n",
       "3258  10861     NaN      NaN   \n",
       "3259  10865     NaN      NaN   \n",
       "3260  10868     NaN      NaN   \n",
       "3261  10874     NaN      NaN   \n",
       "3262  10875     NaN      NaN   \n",
       "\n",
       "                                                   text  \n",
       "0                    Just happened a terrible car crash  \n",
       "1     Heard about #earthquake is different cities, s...  \n",
       "2     there is a forest fire at spot pond, geese are...  \n",
       "3              Apocalypse lighting. #Spokane #wildfires  \n",
       "4         Typhoon Soudelor kills 28 in China and Taiwan  \n",
       "...                                                 ...  \n",
       "3258  EARTHQUAKE SAFETY LOS ANGELES ÛÒ SAFETY FASTE...  \n",
       "3259  Storm in RI worse than last hurricane. My city...  \n",
       "3260  Green Line derailment in Chicago http://t.co/U...  \n",
       "3261  MEG issues Hazardous Weather Outlook (HWO) htt...  \n",
       "3262  #CityofCalgary has activated its Municipal Eme...  \n",
       "\n",
       "[3263 rows x 4 columns]"
      ]
     },
     "execution_count": 13,
     "metadata": {},
     "output_type": "execute_result"
    }
   ],
   "source": [
    "test_data"
   ]
  },
  {
   "cell_type": "code",
   "execution_count": 14,
   "id": "9c1e15a5",
   "metadata": {
    "execution": {
     "iopub.execute_input": "2024-04-26T08:16:26.264683Z",
     "iopub.status.busy": "2024-04-26T08:16:26.264281Z",
     "iopub.status.idle": "2024-04-26T08:16:26.269257Z",
     "shell.execute_reply": "2024-04-26T08:16:26.268306Z"
    },
    "papermill": {
     "duration": 0.07738,
     "end_time": "2024-04-26T08:16:26.271278",
     "exception": false,
     "start_time": "2024-04-26T08:16:26.193898",
     "status": "completed"
    },
    "tags": []
   },
   "outputs": [],
   "source": [
    "tweets = test_data['text']"
   ]
  },
  {
   "cell_type": "code",
   "execution_count": 15,
   "id": "413a1732",
   "metadata": {
    "execution": {
     "iopub.execute_input": "2024-04-26T08:16:26.410321Z",
     "iopub.status.busy": "2024-04-26T08:16:26.409928Z",
     "iopub.status.idle": "2024-04-26T08:16:26.415814Z",
     "shell.execute_reply": "2024-04-26T08:16:26.414999Z"
    },
    "papermill": {
     "duration": 0.078339,
     "end_time": "2024-04-26T08:16:26.418621",
     "exception": false,
     "start_time": "2024-04-26T08:16:26.340282",
     "status": "completed"
    },
    "tags": []
   },
   "outputs": [
    {
     "data": {
      "text/plain": [
       "3263"
      ]
     },
     "execution_count": 15,
     "metadata": {},
     "output_type": "execute_result"
    }
   ],
   "source": [
    "len(tweets)"
   ]
  },
  {
   "cell_type": "code",
   "execution_count": 16,
   "id": "cd664772",
   "metadata": {
    "execution": {
     "iopub.execute_input": "2024-04-26T08:16:26.562163Z",
     "iopub.status.busy": "2024-04-26T08:16:26.560973Z",
     "iopub.status.idle": "2024-04-26T08:16:26.669790Z",
     "shell.execute_reply": "2024-04-26T08:16:26.668369Z"
    },
    "papermill": {
     "duration": 0.183311,
     "end_time": "2024-04-26T08:16:26.672766",
     "exception": false,
     "start_time": "2024-04-26T08:16:26.489455",
     "status": "completed"
    },
    "tags": []
   },
   "outputs": [],
   "source": [
    "x_test = tokenizer.texts_to_sequences(tweets)\n",
    "x_test = pad_sequences(x_test, maxlen=350)"
   ]
  },
  {
   "cell_type": "code",
   "execution_count": 17,
   "id": "3c08b05e",
   "metadata": {
    "execution": {
     "iopub.execute_input": "2024-04-26T08:16:26.813652Z",
     "iopub.status.busy": "2024-04-26T08:16:26.813174Z",
     "iopub.status.idle": "2024-04-26T08:16:40.349057Z",
     "shell.execute_reply": "2024-04-26T08:16:40.348124Z"
    },
    "papermill": {
     "duration": 13.609904,
     "end_time": "2024-04-26T08:16:40.351510",
     "exception": false,
     "start_time": "2024-04-26T08:16:26.741606",
     "status": "completed"
    },
    "tags": []
   },
   "outputs": [
    {
     "name": "stdout",
     "output_type": "stream",
     "text": [
      "\u001b[1m102/102\u001b[0m \u001b[32m━━━━━━━━━━━━━━━━━━━━\u001b[0m\u001b[37m\u001b[0m \u001b[1m13s\u001b[0m 132ms/step\n"
     ]
    }
   ],
   "source": [
    "y_pred = model.predict(x_test)\n",
    "y_pred = np.rint(y_pred)"
   ]
  },
  {
   "cell_type": "code",
   "execution_count": 18,
   "id": "9e973093",
   "metadata": {
    "execution": {
     "iopub.execute_input": "2024-04-26T08:16:40.516053Z",
     "iopub.status.busy": "2024-04-26T08:16:40.515603Z",
     "iopub.status.idle": "2024-04-26T08:16:40.522972Z",
     "shell.execute_reply": "2024-04-26T08:16:40.521907Z"
    },
    "papermill": {
     "duration": 0.090025,
     "end_time": "2024-04-26T08:16:40.525321",
     "exception": false,
     "start_time": "2024-04-26T08:16:40.435296",
     "status": "completed"
    },
    "tags": []
   },
   "outputs": [
    {
     "data": {
      "text/plain": [
       "array([[0.],\n",
       "       [1.],\n",
       "       [1.],\n",
       "       ...,\n",
       "       [1.],\n",
       "       [1.],\n",
       "       [1.]], dtype=float32)"
      ]
     },
     "execution_count": 18,
     "metadata": {},
     "output_type": "execute_result"
    }
   ],
   "source": [
    "y_pred"
   ]
  },
  {
   "cell_type": "code",
   "execution_count": 19,
   "id": "31110f76",
   "metadata": {
    "execution": {
     "iopub.execute_input": "2024-04-26T08:16:40.700518Z",
     "iopub.status.busy": "2024-04-26T08:16:40.700092Z",
     "iopub.status.idle": "2024-04-26T08:16:40.713664Z",
     "shell.execute_reply": "2024-04-26T08:16:40.712673Z"
    },
    "papermill": {
     "duration": 0.100927,
     "end_time": "2024-04-26T08:16:40.715782",
     "exception": false,
     "start_time": "2024-04-26T08:16:40.614855",
     "status": "completed"
    },
    "tags": []
   },
   "outputs": [
    {
     "data": {
      "text/html": [
       "<div>\n",
       "<style scoped>\n",
       "    .dataframe tbody tr th:only-of-type {\n",
       "        vertical-align: middle;\n",
       "    }\n",
       "\n",
       "    .dataframe tbody tr th {\n",
       "        vertical-align: top;\n",
       "    }\n",
       "\n",
       "    .dataframe thead th {\n",
       "        text-align: right;\n",
       "    }\n",
       "</style>\n",
       "<table border=\"1\" class=\"dataframe\">\n",
       "  <thead>\n",
       "    <tr style=\"text-align: right;\">\n",
       "      <th></th>\n",
       "      <th>id</th>\n",
       "      <th>target</th>\n",
       "    </tr>\n",
       "  </thead>\n",
       "  <tbody>\n",
       "    <tr>\n",
       "      <th>0</th>\n",
       "      <td>0</td>\n",
       "      <td>0</td>\n",
       "    </tr>\n",
       "    <tr>\n",
       "      <th>1</th>\n",
       "      <td>2</td>\n",
       "      <td>1</td>\n",
       "    </tr>\n",
       "    <tr>\n",
       "      <th>2</th>\n",
       "      <td>3</td>\n",
       "      <td>1</td>\n",
       "    </tr>\n",
       "    <tr>\n",
       "      <th>3</th>\n",
       "      <td>9</td>\n",
       "      <td>0</td>\n",
       "    </tr>\n",
       "    <tr>\n",
       "      <th>4</th>\n",
       "      <td>11</td>\n",
       "      <td>1</td>\n",
       "    </tr>\n",
       "    <tr>\n",
       "      <th>...</th>\n",
       "      <td>...</td>\n",
       "      <td>...</td>\n",
       "    </tr>\n",
       "    <tr>\n",
       "      <th>3258</th>\n",
       "      <td>10861</td>\n",
       "      <td>1</td>\n",
       "    </tr>\n",
       "    <tr>\n",
       "      <th>3259</th>\n",
       "      <td>10865</td>\n",
       "      <td>1</td>\n",
       "    </tr>\n",
       "    <tr>\n",
       "      <th>3260</th>\n",
       "      <td>10868</td>\n",
       "      <td>1</td>\n",
       "    </tr>\n",
       "    <tr>\n",
       "      <th>3261</th>\n",
       "      <td>10874</td>\n",
       "      <td>1</td>\n",
       "    </tr>\n",
       "    <tr>\n",
       "      <th>3262</th>\n",
       "      <td>10875</td>\n",
       "      <td>1</td>\n",
       "    </tr>\n",
       "  </tbody>\n",
       "</table>\n",
       "<p>3263 rows × 2 columns</p>\n",
       "</div>"
      ],
      "text/plain": [
       "         id  target\n",
       "0         0       0\n",
       "1         2       1\n",
       "2         3       1\n",
       "3         9       0\n",
       "4        11       1\n",
       "...     ...     ...\n",
       "3258  10861       1\n",
       "3259  10865       1\n",
       "3260  10868       1\n",
       "3261  10874       1\n",
       "3262  10875       1\n",
       "\n",
       "[3263 rows x 2 columns]"
      ]
     },
     "execution_count": 19,
     "metadata": {},
     "output_type": "execute_result"
    }
   ],
   "source": [
    "df_result = pd.DataFrame(test_data['id'], columns=['id'])\n",
    "df_result['target'] = y_pred.astype(int)\n",
    "df_result"
   ]
  },
  {
   "cell_type": "code",
   "execution_count": 20,
   "id": "852918dd",
   "metadata": {
    "execution": {
     "iopub.execute_input": "2024-04-26T08:16:40.874178Z",
     "iopub.status.busy": "2024-04-26T08:16:40.873395Z",
     "iopub.status.idle": "2024-04-26T08:16:40.885877Z",
     "shell.execute_reply": "2024-04-26T08:16:40.884681Z"
    },
    "papermill": {
     "duration": 0.094768,
     "end_time": "2024-04-26T08:16:40.888678",
     "exception": false,
     "start_time": "2024-04-26T08:16:40.793910",
     "status": "completed"
    },
    "tags": []
   },
   "outputs": [],
   "source": [
    "df_result.to_csv(\"/kaggle/working/submission.csv\", index=False)"
   ]
  }
 ],
 "metadata": {
  "kaggle": {
   "accelerator": "none",
   "dataSources": [
    {
     "databundleVersionId": 869809,
     "sourceId": 17777,
     "sourceType": "competition"
    }
   ],
   "dockerImageVersionId": 30698,
   "isGpuEnabled": false,
   "isInternetEnabled": true,
   "language": "python",
   "sourceType": "notebook"
  },
  "kernelspec": {
   "display_name": "Python 3",
   "language": "python",
   "name": "python3"
  },
  "language_info": {
   "codemirror_mode": {
    "name": "ipython",
    "version": 3
   },
   "file_extension": ".py",
   "mimetype": "text/x-python",
   "name": "python",
   "nbconvert_exporter": "python",
   "pygments_lexer": "ipython3",
   "version": "3.10.13"
  },
  "papermill": {
   "default_parameters": {},
   "duration": 411.348632,
   "end_time": "2024-04-26T08:16:43.349548",
   "environment_variables": {},
   "exception": null,
   "input_path": "__notebook__.ipynb",
   "output_path": "__notebook__.ipynb",
   "parameters": {},
   "start_time": "2024-04-26T08:09:52.000916",
   "version": "2.5.0"
  }
 },
 "nbformat": 4,
 "nbformat_minor": 5
}
